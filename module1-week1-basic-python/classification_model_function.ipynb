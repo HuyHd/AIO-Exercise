{
 "cells": [
  {
   "cell_type": "code",
   "execution_count": 12,
   "metadata": {},
   "outputs": [],
   "source": [
    "def evaluate_classification_model(tp, fp, fn):\n",
    "    \"\"\"\n",
    "    This function aims to evaluate classification model by f1_score.\n",
    "\n",
    "    Parameters:\n",
    "    tp (int): Number of True Positives.\n",
    "    fp (int): Number of False Positives.\n",
    "    fn (int): Number of False Negatives.\n",
    "\n",
    "    Returns:\n",
    "    Precision, Recall, F1-score of the model.\n",
    "    \"\"\"\n",
    "\n",
    "    # Check if the input values are integers\n",
    "    if not isinstance(tp, int):\n",
    "        print(\"tp must be int\")\n",
    "        return\n",
    "    if not isinstance(fp, int):\n",
    "        print(\"fp must be int\")\n",
    "        return\n",
    "    if not isinstance(fn, int):\n",
    "        print(\"fn must be int\")\n",
    "        return\n",
    "\n",
    "    # Check if the input values are greater than zero\n",
    "    if tp <= 0 or fp <= 0 or fn <= 0:\n",
    "        print(\"tp and fp and fn must be greater than zero\")\n",
    "        return\n",
    "\n",
    "    # Calculate Precision, Recall, F1-score\n",
    "    precision = tp / (tp + fp)\n",
    "    recall = tp / (tp + fn)\n",
    "    f1_score = 2 * ((precision * recall) / (precision + recall))\n",
    "\n",
    "    return precision, recall, f1_score"
   ]
  },
  {
   "cell_type": "code",
   "execution_count": 13,
   "metadata": {},
   "outputs": [
    {
     "name": "stdout",
     "output_type": "stream",
     "text": [
      "precision is 0.4, recall is 0.3333333333333333, f1-score is 0.3636363636363636\n"
     ]
    }
   ],
   "source": [
    "# Examples\n",
    "f1 = evaluate_classification_model(tp=2, fp=3, fn=4)\n",
    "print(f\"precision is {f1[0]}, recall is {f1[1]}, f1-score is {f1[2]}\")"
   ]
  },
  {
   "cell_type": "code",
   "execution_count": 13,
   "metadata": {},
   "outputs": [
    {
     "name": "stdout",
     "output_type": "stream",
     "text": [
      "tp must be int\n"
     ]
    }
   ],
   "source": [
    "evaluate_classification_model(tp=\"a\", fp=3, fn=4)"
   ]
  },
  {
   "cell_type": "code",
   "execution_count": 14,
   "metadata": {},
   "outputs": [
    {
     "name": "stdout",
     "output_type": "stream",
     "text": [
      "fp must be int\n"
     ]
    }
   ],
   "source": [
    "evaluate_classification_model(tp=2, fp=\"a\", fn=4)"
   ]
  },
  {
   "cell_type": "code",
   "execution_count": 16,
   "metadata": {},
   "outputs": [
    {
     "name": "stdout",
     "output_type": "stream",
     "text": [
      "fn must be int\n"
     ]
    }
   ],
   "source": [
    "evaluate_classification_model(tp=2, fp=3, fn=\"a\")"
   ]
  },
  {
   "cell_type": "code",
   "execution_count": 15,
   "metadata": {},
   "outputs": [
    {
     "name": "stdout",
     "output_type": "stream",
     "text": [
      "tp and fp and fn must be greater than zero\n"
     ]
    }
   ],
   "source": [
    "evaluate_classification_model(tp=2, fp=3, fn=0)"
   ]
  }
 ],
 "metadata": {
  "kernelspec": {
   "display_name": "Python 3",
   "language": "python",
   "name": "python3"
  },
  "language_info": {
   "codemirror_mode": {
    "name": "ipython",
    "version": 3
   },
   "file_extension": ".py",
   "mimetype": "text/x-python",
   "name": "python",
   "nbconvert_exporter": "python",
   "pygments_lexer": "ipython3",
   "version": "3.12.3"
  }
 },
 "nbformat": 4,
 "nbformat_minor": 2
}
