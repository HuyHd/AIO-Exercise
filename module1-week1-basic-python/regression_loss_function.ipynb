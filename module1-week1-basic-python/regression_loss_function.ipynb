{
 "cells": [
  {
   "cell_type": "code",
   "execution_count": 55,
   "metadata": {},
   "outputs": [],
   "source": [
    "import math\n",
    "import random\n",
    "\n",
    "\n",
    "def regression_loss():\n",
    "    \"\"\"\n",
    "    Generate random samples, calculate and print the specified loss function for each sample.\n",
    "\n",
    "    Parameters:\n",
    "    num_samples (int): Number of samples to generate.\n",
    "    loss_name (str): The name of the loss function ('MAE', 'MSE', 'RMSE').\n",
    "\n",
    "    Returns:\n",
    "    Results of the specified loss function for each sample.\n",
    "    \"\"\"\n",
    "    # Input num_samples values\n",
    "    num_samples = input(\n",
    "        \"Input number of samples (interger number) which are generated: \"\n",
    "    )\n",
    "\n",
    "    # Check if the num_samples values are integers\n",
    "    if num_samples.isnumeric():\n",
    "        num_samples = int(num_samples)\n",
    "    else:\n",
    "        print(\"number of samples must be an interger number\")\n",
    "        return\n",
    "\n",
    "    # Input loss name (MAE, MSE, RMSE-(optional))\n",
    "    loss_name = input(\"Input loss name: \")\n",
    "\n",
    "    # Calculate and print the specified loss function for each sample\n",
    "    total_error = 0\n",
    "    for i in range(num_samples):\n",
    "        predict = random.uniform(0, 10)\n",
    "        target = random.uniform(0, 10)\n",
    "        if loss_name == \"MAE\":\n",
    "            total_error += abs(target - predict)\n",
    "            loss = total_error / num_samples\n",
    "        elif loss_name == \"MSE\":\n",
    "            total_error += (target - predict) ** 2\n",
    "            loss = total_error / num_samples\n",
    "        elif loss_name == \"RMSE\":\n",
    "            total_error += (target - predict) ** 2\n",
    "            loss = math.sqrt(total_error / num_samples)\n",
    "        print(\n",
    "            f\"loss name: {loss_name}, samples: {i}, pred: {predict}, target: {target}, loss: {loss}\"\n",
    "        )"
   ]
  },
  {
   "cell_type": "code",
   "execution_count": 56,
   "metadata": {},
   "outputs": [
    {
     "name": "stdout",
     "output_type": "stream",
     "text": [
      "loss name: RMSE, samples: 0, pred: 6.605537582484299, target: 3.7020257034782578, loss: 1.2984899869871305\n",
      "loss name: RMSE, samples: 1, pred: 5.936877768661942, target: 1.0487061467373038, loss: 2.5426208147074756\n",
      "loss name: RMSE, samples: 2, pred: 4.452838748594416, target: 6.8146686641864935, loss: 2.7532832613846407\n",
      "loss name: RMSE, samples: 3, pred: 6.572796073275211, target: 2.8306635453712605, loss: 3.2219993619956235\n",
      "loss name: RMSE, samples: 4, pred: 2.629117720137227, target: 7.541091217131309, loss: 3.899586723709919\n"
     ]
    }
   ],
   "source": [
    "# Examples num_samples = 5 and loss name = RMSE\n",
    "regression_loss()"
   ]
  },
  {
   "cell_type": "code",
   "execution_count": 57,
   "metadata": {},
   "outputs": [
    {
     "name": "stdout",
     "output_type": "stream",
     "text": [
      "number of samples must be an interger number\n"
     ]
    }
   ],
   "source": [
    "# Examples num_samples = aa\n",
    "regression_loss()"
   ]
  }
 ],
 "metadata": {
  "kernelspec": {
   "display_name": "Python 3",
   "language": "python",
   "name": "python3"
  },
  "language_info": {
   "codemirror_mode": {
    "name": "ipython",
    "version": 3
   },
   "file_extension": ".py",
   "mimetype": "text/x-python",
   "name": "python",
   "nbconvert_exporter": "python",
   "pygments_lexer": "ipython3",
   "version": "3.12.3"
  }
 },
 "nbformat": 4,
 "nbformat_minor": 2
}
