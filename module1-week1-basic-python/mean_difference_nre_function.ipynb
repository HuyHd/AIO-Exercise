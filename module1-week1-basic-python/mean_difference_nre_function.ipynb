{
 "cells": [
  {
   "cell_type": "code",
   "execution_count": 5,
   "metadata": {},
   "outputs": [],
   "source": [
    "def md_nre_single_sample(y, y_hat, n, p):\n",
    "    \"\"\"\n",
    "    Compute the loss function based on given parameters.\n",
    "\n",
    "    Parameters:\n",
    "    y: The true value.\n",
    "    y_hat: The predicted value.\n",
    "    n: The nth root.\n",
    "    p: The power of the loss function.\n",
    "\n",
    "    Returns:\n",
    "    The result of the loss function.\n",
    "    \"\"\"\n",
    "    md_nre= (y**(1/n)-y_hat**(1/n))**p\n",
    "    return md_nre"
   ]
  },
  {
   "cell_type": "code",
   "execution_count": 6,
   "metadata": {},
   "outputs": [
    {
     "data": {
      "text/plain": [
       "0.025031328369998107"
      ]
     },
     "execution_count": 6,
     "metadata": {},
     "output_type": "execute_result"
    }
   ],
   "source": [
    "md_nre_single_sample (y=100 , y_hat =99.5 , n=2, p=1)"
   ]
  },
  {
   "cell_type": "code",
   "execution_count": 7,
   "metadata": {},
   "outputs": [
    {
     "data": {
      "text/plain": [
       "0.03544417213033135"
      ]
     },
     "execution_count": 7,
     "metadata": {},
     "output_type": "execute_result"
    }
   ],
   "source": [
    "md_nre_single_sample (y=50 , y_hat =49.5 , n=2, p=1)"
   ]
  },
  {
   "cell_type": "code",
   "execution_count": 9,
   "metadata": {},
   "outputs": [
    {
     "data": {
      "text/plain": [
       "0.05625552183565574"
      ]
     },
     "execution_count": 9,
     "metadata": {},
     "output_type": "execute_result"
    }
   ],
   "source": [
    "md_nre_single_sample (y=20 , y_hat =19.5 , n=2, p=1)"
   ]
  },
  {
   "cell_type": "code",
   "execution_count": 10,
   "metadata": {},
   "outputs": [
    {
     "data": {
      "text/plain": [
       "0.45836890322464546"
      ]
     },
     "execution_count": 10,
     "metadata": {},
     "output_type": "execute_result"
    }
   ],
   "source": [
    "md_nre_single_sample (y=0.6 , y_hat =0.1 , n=2, p=1)"
   ]
  }
 ],
 "metadata": {
  "kernelspec": {
   "display_name": "Python 3",
   "language": "python",
   "name": "python3"
  },
  "language_info": {
   "codemirror_mode": {
    "name": "ipython",
    "version": 3
   },
   "file_extension": ".py",
   "mimetype": "text/x-python",
   "name": "python",
   "nbconvert_exporter": "python",
   "pygments_lexer": "ipython3",
   "version": "3.12.3"
  }
 },
 "nbformat": 4,
 "nbformat_minor": 2
}
