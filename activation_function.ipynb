{
 "cells": [
  {
   "cell_type": "code",
   "execution_count": 4,
   "metadata": {},
   "outputs": [],
   "source": [
    "import math\n",
    "\n",
    "\n",
    "# Given\n",
    "def is_number(n):\n",
    "    try:\n",
    "        float(n)  # Type - casting the string to ‘float ‘.\n",
    "        # If string is not a valid ‘float ‘,\n",
    "        # it ’ll raise ‘ValueError ‘ exception\n",
    "    except ValueError:\n",
    "        return False\n",
    "    return True\n",
    "\n",
    "\n",
    "def activation_function():\n",
    "    \"\"\"\n",
    "    This function aims to apply the specified activation function to the input value x.\n",
    "\n",
    "    Parameters:\n",
    "    x (float): The input value.\n",
    "    activation (str): The name of the activation function ('sigmoid', 'relu', 'elu').\n",
    "\n",
    "    Returns:\n",
    "    The result of applying the activation function to x.\n",
    "    \"\"\"\n",
    "    # Input x values\n",
    "    x = input(\"Input x = \")\n",
    "\n",
    "    # Check if the input value x is a number\n",
    "    if is_number(x):\n",
    "        x = float(x)\n",
    "    else:\n",
    "        print(\"x must be a number\")\n",
    "        return\n",
    "\n",
    "    # Input activation function ( sigmoid | relu | elu )\n",
    "    activation = input(\"Input activation functions ( sigmoid | relu | elu ): \")\n",
    "\n",
    "    # Apply the appropriate activation function\n",
    "    if activation == \"sigmoid\":\n",
    "        sigmoid = 1 / (1 + math.e**-x)\n",
    "        print(f\"sigmoid: f({x}) = {sigmoid}\")\n",
    "        return\n",
    "    elif activation == \"relu\":\n",
    "        relu = max(0, x)\n",
    "        print(f\"relu: f({x}) = {relu}\")\n",
    "        return\n",
    "    elif activation == \"elu\":\n",
    "        if x <= 0:\n",
    "            elu = 0.01 * (math.e**x - 1)\n",
    "            print(f\"elu: f({x}) = {elu}\")\n",
    "            return\n",
    "        else:\n",
    "            print(f\"elu: f({x}) = {x}\")\n",
    "            return\n",
    "    else:\n",
    "        print(f\"{activation} is not supported\")"
   ]
  },
  {
   "cell_type": "code",
   "execution_count": 5,
   "metadata": {},
   "outputs": [
    {
     "name": "stdout",
     "output_type": "stream",
     "text": [
      "sigmoid: f(1.5) = 0.8175744761936437\n"
     ]
    }
   ],
   "source": [
    "# Examples x = 1.5 and activation function = sigmoid\n",
    "activation_function()"
   ]
  },
  {
   "cell_type": "code",
   "execution_count": 3,
   "metadata": {},
   "outputs": [
    {
     "name": "stdout",
     "output_type": "stream",
     "text": [
      "x must be a number\n"
     ]
    }
   ],
   "source": [
    "# Examples x = abc\n",
    "activation_function()"
   ]
  },
  {
   "cell_type": "code",
   "execution_count": 3,
   "metadata": {},
   "outputs": [
    {
     "name": "stdout",
     "output_type": "stream",
     "text": [
      "belu is not supported\n"
     ]
    }
   ],
   "source": [
    "# Examples x = 1.5 and activation function = belu\n",
    "activation_function()"
   ]
  }
 ],
 "metadata": {
  "kernelspec": {
   "display_name": "Python 3",
   "language": "python",
   "name": "python3"
  },
  "language_info": {
   "codemirror_mode": {
    "name": "ipython",
    "version": 3
   },
   "file_extension": ".py",
   "mimetype": "text/x-python",
   "name": "python",
   "nbconvert_exporter": "python",
   "pygments_lexer": "ipython3",
   "version": "3.12.3"
  }
 },
 "nbformat": 4,
 "nbformat_minor": 2
}
