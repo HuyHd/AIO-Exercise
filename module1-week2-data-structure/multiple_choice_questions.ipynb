{
 "cells": [
  {
   "cell_type": "code",
   "execution_count": 2,
   "metadata": {},
   "outputs": [
    {
     "name": "stdout",
     "output_type": "stream",
     "text": [
      "Test cases passed.\n",
      "Out put: [5, 5, 5, 5, 10, 12, 33, 33]\n"
     ]
    }
   ],
   "source": [
    "# Questions 1\n",
    "def max_kernel(num_list, k):\n",
    "    window = []\n",
    "    max_values = []\n",
    "\n",
    "    for i in range(len(num_list) + 1 - k):\n",
    "        window.append(num_list[i : i + k])\n",
    "        max_values.append(max(window[i]))\n",
    "    return max_values\n",
    "\n",
    "\n",
    "# Testcases:\n",
    "if __name__ == \"__main__\":\n",
    "    assert max_kernel([3, 4, 5, 1, -44], 3) == [5, 5, 5], \"Test case 1 failed\"\n",
    "    print(\"Test cases passed.\")\n",
    "    num_list = [3, 4, 5, 1, -44, 5, 10, 12, 33, 1]\n",
    "    k = 3\n",
    "    print(f\"Out put: {max_kernel(num_list, k)}\")"
   ]
  },
  {
   "cell_type": "code",
   "execution_count": 3,
   "metadata": {},
   "outputs": [
    {
     "name": "stdout",
     "output_type": "stream",
     "text": [
      "{'s': 2, 'm': 1, 'i': 1, 'l': 1, 'e': 1}\n"
     ]
    }
   ],
   "source": [
    "# Questions 2\n",
    "def character_count(word):\n",
    "    character_statistic = {}\n",
    "\n",
    "    for char in word:\n",
    "        if char in character_statistic:\n",
    "            character_statistic[char] += 1\n",
    "        else:\n",
    "            character_statistic[char] = 1\n",
    "    return character_statistic\n",
    "\n",
    "\n",
    "# Testcases:\n",
    "if __name__ == \"__main__\":\n",
    "    assert character_count(\"Baby\") == {\"B\": 1, \"a\": 1, \"b\": 1, \"y\": 1}\n",
    "    print(character_count(\"smiles\"))"
   ]
  },
  {
   "cell_type": "code",
   "execution_count": 7,
   "metadata": {},
   "outputs": [
    {
     "name": "stdout",
     "output_type": "stream",
     "text": [
      "6\n"
     ]
    }
   ],
   "source": [
    "# Questions 3\n",
    "def count_word(file_path):\n",
    "    with open(file_path, \"r\") as file:\n",
    "        document = file.read()\n",
    "\n",
    "        # Split and count words\n",
    "        counter = {}\n",
    "        words = document.lower().split()\n",
    "        for word in words:\n",
    "            if word in counter:\n",
    "                counter[word] += 1\n",
    "            else:\n",
    "                counter[word] = 1\n",
    "        return counter\n",
    "\n",
    "\n",
    "# Testcases:\n",
    "if __name__ == \"__main__\":\n",
    "    # gdown.download(\n",
    "    #     \"https://drive.google.com/uc?id=1IBScGdW2xlNsc9v5zSAya548kNgiOrko\",\n",
    "    #     \"./module1-week2-data-structure/content/P1_data.txt\",\n",
    "    #     quiet=False,\n",
    "    # )\n",
    "    file_path = \"./content/P1_data.txt\"\n",
    "    result = count_word(file_path)\n",
    "    assert result[\"who\"] == 3\n",
    "    print(result[\"man\"])"
   ]
  },
  {
   "cell_type": "code",
   "execution_count": 1,
   "metadata": {},
   "outputs": [
    {
     "name": "stdout",
     "output_type": "stream",
     "text": [
      "3.0\n"
     ]
    }
   ],
   "source": [
    "# Questions 4\n",
    "def levenshtein_distance(token1, token2):\n",
    "    M = len(token1) + 1\n",
    "    N = len(token2) + 1\n",
    "\n",
    "    # Khởi tạo ma trận D với kích thước M x N, ban đầu tất cả các ô là '#'\n",
    "    D = [[\"#\" for _ in range(N)] for _ in range(M)]\n",
    "\n",
    "    for j in range(N):\n",
    "        D[0][j] = j\n",
    "    for i in range(M):\n",
    "        D[i][0] = i\n",
    "\n",
    "    # Tính toán các giá trị cho các ô còn lại trong ma trận\n",
    "    for i in range(1, M):\n",
    "        for j in range(1, N):\n",
    "            cost = 0 if token1[i - 1] == token2[j - 1] else 1\n",
    "            D[i][j] = min(\n",
    "                D[i - 1][j] + 1, D[i][j - 1] + 1, D[i - 1][j - 1] + cost\n",
    "            )  # Thay thế ký tự)\n",
    "    distance = D[i][j]\n",
    "    return float(distance)\n",
    "\n",
    "\n",
    "assert levenshtein_distance(\"hi\", \"hello\") == 4.0\n",
    "print(levenshtein_distance(\"hola\", \"hello\"))"
   ]
  },
  {
   "cell_type": "code",
   "execution_count": 12,
   "metadata": {},
   "outputs": [
    {
     "name": "stdout",
     "output_type": "stream",
     "text": [
      "True\n"
     ]
    }
   ],
   "source": [
    "# Questions 5\n",
    "def check_the_number(N):\n",
    "    list_of_numbers = []\n",
    "    results = \"\"\n",
    "    for i in range(1, 5):\n",
    "        # Your code here\n",
    "        # Su dung append them i vao trong list_of_number\n",
    "            list_of_numbers.append(i)\n",
    "    if N in list_of_numbers:\n",
    "        results = \"True\"\n",
    "    if N not in list_of_numbers:\n",
    "        results = \"False\"\n",
    "    return results\n",
    "\n",
    "\n",
    "N = 7\n",
    "assert check_the_number(N) == \"False\"\n",
    "N = 2\n",
    "results = check_the_number(N)\n",
    "print(results)"
   ]
  },
  {
   "cell_type": "code",
   "execution_count": 13,
   "metadata": {},
   "outputs": [
    {
     "name": "stdout",
     "output_type": "stream",
     "text": [
      "[2, 2, 2, 1, 1]\n"
     ]
    }
   ],
   "source": [
    "# Questions 6\n",
    "def my_function(data, max, min):\n",
    "    result = []\n",
    "    for i in data:\n",
    "        # Your code here\n",
    "        # Neu i < min thi them min vao result\n",
    "        if i < min:\n",
    "            result.append(min)\n",
    "        elif i > max:\n",
    "            result.append(max)\n",
    "        else:\n",
    "            result.append(i)\n",
    "    return result\n",
    "\n",
    "\n",
    "my_list = [5, 2, 5, 0, 1]\n",
    "max = 1\n",
    "min = 0\n",
    "assert my_function(max=max, min=min, data=my_list) == [1, 1, 1, 0, 1]\n",
    "my_list = [10, 2, 5, 0, 1]\n",
    "max = 2\n",
    "min = 1\n",
    "print(my_function(max=max, min=min, data=my_list))"
   ]
  },
  {
   "cell_type": "code",
   "execution_count": 15,
   "metadata": {},
   "outputs": [
    {
     "name": "stdout",
     "output_type": "stream",
     "text": [
      "[1, 2, 3, 4, 0, 0]\n"
     ]
    }
   ],
   "source": [
    "# Questions 7\n",
    "def my_function(x, y):\n",
    "    # Your code here\n",
    "    # Su dung extend de noi y vao x\n",
    "    x.extend(y)\n",
    "    return x\n",
    "\n",
    "\n",
    "list_num1 = [\"a\", 2, 5]\n",
    "list_num2 = [1, 1]\n",
    "list_num3 = [0, 0]\n",
    "\n",
    "assert my_function(list_num1, my_function(list_num2, list_num3)) == [\n",
    "    \"a\",\n",
    "    2,\n",
    "    5,\n",
    "    1,\n",
    "    1,\n",
    "    0,\n",
    "    0,\n",
    "]\n",
    "\n",
    "list_num1 = [1, 2]\n",
    "list_num2 = [3, 4]\n",
    "list_num3 = [0, 0]\n",
    "\n",
    "print(my_function(list_num1, my_function(list_num2, list_num3)))"
   ]
  },
  {
   "cell_type": "code",
   "execution_count": 20,
   "metadata": {},
   "outputs": [
    {
     "name": "stdout",
     "output_type": "stream",
     "text": [
      "-1\n"
     ]
    }
   ],
   "source": [
    "# Questions 8\n",
    "def my_function(n):\n",
    "    # Your code here\n",
    "    min_value = n[0]  # giả sử phần tử đầu tiên là nhỏ nhất\n",
    "    for num in n:\n",
    "        if num < min_value:  # nếu tìm thấy phần tử nhỏ hơn\n",
    "            min_value = num\n",
    "    return min_value\n",
    "\n",
    "\n",
    "my_list = [1, 22, 93, -100]\n",
    "assert my_function(my_list) == -100\n",
    "\n",
    "my_list = [1, 2, 3, -1]\n",
    "print(my_function(my_list))"
   ]
  },
  {
   "cell_type": "code",
   "execution_count": 21,
   "metadata": {},
   "outputs": [
    {
     "name": "stdout",
     "output_type": "stream",
     "text": [
      "9\n"
     ]
    }
   ],
   "source": [
    "# Questions 9\n",
    "def my_function(n):\n",
    "    # Your code here\n",
    "    max_value = n[0]  # giả sử phần tử đầu tiên là nhỏ nhất\n",
    "    for num in n:\n",
    "        if num > max_value:  # nếu tìm thấy phần tử nhỏ hơn\n",
    "            max_value = num\n",
    "    return max_value\n",
    "\n",
    "\n",
    "my_list = [1001, 9, 100, 0]\n",
    "assert my_function(my_list) == 1001\n",
    "\n",
    "my_list = [1, 9, 9, 0]\n",
    "print(my_function(my_list))"
   ]
  },
  {
   "cell_type": "code",
   "execution_count": 23,
   "metadata": {},
   "outputs": [
    {
     "name": "stdout",
     "output_type": "stream",
     "text": [
      "True\n"
     ]
    }
   ],
   "source": [
    "# Questions 10\n",
    "def My_function(integers, number=1):\n",
    "    for num in integers:\n",
    "        if num == number:  # nếu tìm thấy phần tử bằng number\n",
    "            return True\n",
    "    return False  # nếu không tìm thấy phần tử nào bằng number\n",
    "    # return any()\n",
    "    # Your code here : Thuc hien duyet tung phan tu trong integers , so sanh tung phan tu voi number , neu bang nhau tra ve True , khac nhau tra ve false\n",
    "    # vi du: integers = [1, 2, 3], number = 2, ban se tao ra list [False , True , False ] )\n",
    "\n",
    "\n",
    "my_list = [1, 3, 9, 4]\n",
    "assert My_function(my_list, -1) == False\n",
    "\n",
    "my_list = [1, 2, 3, 4]\n",
    "print(My_function(my_list, 2))"
   ]
  },
  {
   "cell_type": "code",
   "execution_count": 24,
   "metadata": {},
   "outputs": [
    {
     "name": "stdout",
     "output_type": "stream",
     "text": [
      "1.0\n"
     ]
    }
   ],
   "source": [
    "# Questions 11\n",
    "def my_function(list_nums=[0, 1, 2]):\n",
    "    var = 0\n",
    "    for i in list_nums:\n",
    "        var += i\n",
    "    return  var/len(list_nums)# Your code here : Tra ve gia tri trung binh cua list bang cach chia var cho so luong phan tu trong list_mums\n",
    "\n",
    "\n",
    "assert my_function([4, 6, 8]) == 6\n",
    "print(my_function())"
   ]
  },
  {
   "cell_type": "code",
   "execution_count": 25,
   "metadata": {},
   "outputs": [
    {
     "name": "stdout",
     "output_type": "stream",
     "text": [
      "[3, 6]\n"
     ]
    }
   ],
   "source": [
    "# Questions 12\n",
    "def my_function(data):\n",
    "    var = []\n",
    "    for i in data:\n",
    "        # Your code here\n",
    "        # Neu i chia het cho 3 thi them i vao list var\n",
    "        if i % 3 == 0:\n",
    "            var.append(i)\n",
    "    return var\n",
    "\n",
    "\n",
    "assert my_function([3, 9, 4, 5]) == [3, 9]\n",
    "print(my_function([1, 2, 3, 5, 6]))"
   ]
  },
  {
   "cell_type": "code",
   "execution_count": 26,
   "metadata": {},
   "outputs": [
    {
     "name": "stdout",
     "output_type": "stream",
     "text": [
      "24\n"
     ]
    }
   ],
   "source": [
    "# Questions 13\n",
    "def my_function(y):\n",
    "    var = 1\n",
    "    while y > 1:\n",
    "        # Your code here\n",
    "        var *= y\n",
    "        y -= 1\n",
    "    return var\n",
    "\n",
    "\n",
    "assert my_function(8) == 40320\n",
    "print(my_function(4))"
   ]
  },
  {
   "cell_type": "code",
   "execution_count": 27,
   "metadata": {},
   "outputs": [
    {
     "name": "stdout",
     "output_type": "stream",
     "text": [
      "tocirpa\n"
     ]
    }
   ],
   "source": [
    "# Questions 14\n",
    "def my_function(x):\n",
    "    # your code here\n",
    "    reversed_str = \"\"\n",
    "    index = len(x) - 1\n",
    "    while index >= 0:\n",
    "        reversed_str += x[index]\n",
    "        index -= 1\n",
    "    return reversed_str\n",
    "\n",
    "\n",
    "x = \"I can do it\"\n",
    "assert my_function(x) == \"ti od nac I\"\n",
    "\n",
    "x = \"apricot\"\n",
    "print(my_function(x))"
   ]
  },
  {
   "cell_type": "code",
   "execution_count": 28,
   "metadata": {},
   "outputs": [
    {
     "name": "stdout",
     "output_type": "stream",
     "text": [
      "['T', 'T', 'T', 'N']\n"
     ]
    }
   ],
   "source": [
    "# Questions 15\n",
    "def function_helper (x):\n",
    "    # Your code here\n",
    "    # Neu x >0 tra ve ’T ’, nguoc lai tra ve ’N’\n",
    "    return 'T' if x > 0 else 'N'\n",
    "\n",
    "def my_function ( data ):\n",
    "    res = [ function_helper (x) for x in data ]\n",
    "    return res\n",
    "\n",
    "data = [10 , 0, -10, -1]\n",
    "assert my_function ( data ) == ['T', 'N', 'N', 'N']\n",
    "\n",
    "data = [2, 3, 5, -1]\n",
    "print ( my_function ( data ))"
   ]
  },
  {
   "cell_type": "code",
   "execution_count": 30,
   "metadata": {},
   "outputs": [
    {
     "name": "stdout",
     "output_type": "stream",
     "text": [
      "[9, 8, 1]\n"
     ]
    }
   ],
   "source": [
    "# Questions 16\n",
    "def function_helper(x, data):\n",
    "    for i in data:\n",
    "        # Your code here\n",
    "        # Neu x == i thi return 0\n",
    "        if x == i:\n",
    "            return 0\n",
    "    return 1\n",
    "\n",
    "\n",
    "def my_function(data):\n",
    "\n",
    "    res = []\n",
    "    for i in data:\n",
    "        if function_helper(i, res):\n",
    "            res.append(i)\n",
    "    return res\n",
    "\n",
    "\n",
    "lst = [10, 10, 9, 7, 7]\n",
    "assert my_function(lst) == [10, 9, 7]\n",
    "\n",
    "lst = [9, 9, 8, 1, 1]\n",
    "print(my_function(lst))"
   ]
  }
 ],
 "metadata": {
  "kernelspec": {
   "display_name": "Python 3",
   "language": "python",
   "name": "python3"
  },
  "language_info": {
   "codemirror_mode": {
    "name": "ipython",
    "version": 3
   },
   "file_extension": ".py",
   "mimetype": "text/x-python",
   "name": "python",
   "nbconvert_exporter": "python",
   "pygments_lexer": "ipython3",
   "version": "3.12.4"
  }
 },
 "nbformat": 4,
 "nbformat_minor": 2
}
