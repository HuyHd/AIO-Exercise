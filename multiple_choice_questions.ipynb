{
 "cells": [
  {
   "cell_type": "code",
   "execution_count": 27,
   "metadata": {},
   "outputs": [
    {
     "name": "stdout",
     "output_type": "stream",
     "text": [
      "0.31\n"
     ]
    }
   ],
   "source": [
    "# Questions 1\n",
    "import math\n",
    "\n",
    "\n",
    "def calc_f1_score(tp, fp, fn):\n",
    "    # Your code here\n",
    "    precision = tp / (tp + fp)\n",
    "    recall = tp / (tp + fn)\n",
    "    f1_score = 2 * ((precision * recall) / (precision + recall))\n",
    "    return f1_score\n",
    "    # End your code\n",
    "\n",
    "\n",
    "assert round(calc_f1_score(tp=2, fp=3, fn=5), 2) == 0.33\n",
    "print(round(calc_f1_score(tp=2, fp=4, fn=5), 2))"
   ]
  },
  {
   "cell_type": "code",
   "execution_count": 28,
   "metadata": {},
   "outputs": [
    {
     "name": "stdout",
     "output_type": "stream",
     "text": [
      "True\n",
      "False\n"
     ]
    }
   ],
   "source": [
    "# Questions 2\n",
    "import math\n",
    "\n",
    "\n",
    "def is_number(n):\n",
    "    # Your code here\n",
    "    try:\n",
    "        float(n)\n",
    "    except ValueError:\n",
    "        return False\n",
    "    return True\n",
    "    # End your code\n",
    "\n",
    "\n",
    "assert is_number(3) == 1.0\n",
    "assert is_number(\"-2a\") == 0.0\n",
    "print(is_number(1))\n",
    "print(is_number(\"n\"))"
   ]
  },
  {
   "cell_type": "code",
   "execution_count": 29,
   "metadata": {},
   "outputs": [
    {
     "name": "stdout",
     "output_type": "stream",
     "text": [
      "0.88\n"
     ]
    }
   ],
   "source": [
    "# Questions 4\n",
    "import math\n",
    "\n",
    "\n",
    "def calc_sig(x):\n",
    "    # Your code here\n",
    "    sigmoid = 1 / (1 + math.e**-x)\n",
    "    return sigmoid\n",
    "    # End your code\n",
    "\n",
    "\n",
    "assert round(calc_sig(3), 2) == 0.95\n",
    "print(round(calc_sig(2), 2))"
   ]
  },
  {
   "cell_type": "code",
   "execution_count": 9,
   "metadata": {},
   "outputs": [
    {
     "name": "stdout",
     "output_type": "stream",
     "text": [
      "-0.01\n"
     ]
    }
   ],
   "source": [
    "# Questions 5\n",
    "import math\n",
    "\n",
    "\n",
    "def calc_elu(x):\n",
    "    # Your code here\n",
    "    if x <= 0:\n",
    "        elu = 0.01 * (math.e**x - 1)\n",
    "        return elu\n",
    "    else:\n",
    "        return x\n",
    "    # End your code\n",
    "\n",
    "\n",
    "assert round(calc_elu(1)) == 1\n",
    "print(round(calc_elu(-1), 2))"
   ]
  },
  {
   "cell_type": "code",
   "execution_count": 30,
   "metadata": {},
   "outputs": [
    {
     "name": "stdout",
     "output_type": "stream",
     "text": [
      "0.95\n"
     ]
    }
   ],
   "source": [
    "# Questions 6\n",
    "import math\n",
    "\n",
    "\n",
    "def calc_activation_func(x, act_name):\n",
    "    # Your code here\n",
    "    if act_name == \"sigmoid\":\n",
    "        sigmoid = 1 / (1 + math.e**-x)\n",
    "        return sigmoid\n",
    "    elif act_name == \"relu\":\n",
    "        relu = max(0, x)\n",
    "        return relu\n",
    "    elif act_name == \"elu\":\n",
    "        if x <= 0:\n",
    "            elu = 0.01 * (math.e**x - 1)\n",
    "            print(f\"elu: f({x}) = {elu}\")\n",
    "            return elu\n",
    "        else:\n",
    "            return x\n",
    "    # End your code\n",
    "\n",
    "\n",
    "assert calc_activation_func(x=1, act_name=\"relu\") == 1\n",
    "print(round(calc_activation_func(x=3, act_name=\"sigmoid\"), 2))"
   ]
  },
  {
   "cell_type": "code",
   "execution_count": 31,
   "metadata": {},
   "outputs": [
    {
     "name": "stdout",
     "output_type": "stream",
     "text": [
      "7\n"
     ]
    }
   ],
   "source": [
    "# Questions 7\n",
    "def calc_ae(y, y_hat):\n",
    "    # Your code here\n",
    "    absolute_error = abs(y - y_hat)\n",
    "    return absolute_error\n",
    "    # End your code\n",
    "\n",
    "\n",
    "y = 1\n",
    "y_hat = 6\n",
    "assert calc_ae(y, y_hat) == 5\n",
    "y = 2\n",
    "y_hat = 9\n",
    "print(calc_ae(y, y_hat))"
   ]
  },
  {
   "cell_type": "code",
   "execution_count": 32,
   "metadata": {},
   "outputs": [
    {
     "name": "stdout",
     "output_type": "stream",
     "text": [
      "1\n"
     ]
    }
   ],
   "source": [
    "# Questions 8\n",
    "def calc_se(y, y_hat):\n",
    "    # Your code here\n",
    "    squared_error = (y - y_hat) ** 2\n",
    "    return squared_error\n",
    "    # End your code\n",
    "\n",
    "\n",
    "y = 4\n",
    "y_hat = 2\n",
    "assert calc_se(y, y_hat) == 4\n",
    "print(calc_se(2, 1))"
   ]
  },
  {
   "cell_type": "code",
   "execution_count": 33,
   "metadata": {},
   "outputs": [
    {
     "name": "stdout",
     "output_type": "stream",
     "text": [
      "-1.0\n"
     ]
    }
   ],
   "source": [
    "# Questions 9\n",
    "import math\n",
    "\n",
    "\n",
    "def approx_cos(x, n):\n",
    "    # Your code here\n",
    "    result = 0\n",
    "    for i in range(n):\n",
    "        result += ((-1) ** i) * (x ** (2 * i)) / math.factorial(2 * i)\n",
    "    return result\n",
    "    # End your code\n",
    "\n",
    "\n",
    "assert round(approx_cos(x=1, n=10), 2) == 0.54\n",
    "print(round(approx_cos(x=3.14, n=10), 2))"
   ]
  },
  {
   "cell_type": "code",
   "execution_count": 21,
   "metadata": {},
   "outputs": [
    {
     "name": "stdout",
     "output_type": "stream",
     "text": [
      "0.0016\n"
     ]
    }
   ],
   "source": [
    "# Questions 10\n",
    "import math\n",
    "\n",
    "\n",
    "def approx_sin(x, n):\n",
    "    # Your code here\n",
    "    result = 0\n",
    "    for i in range(n):\n",
    "        result += ((-1) ** i) * (x ** (2 * i + 1)) / math.factorial(2 * i + 1)\n",
    "    return result\n",
    "    # End your code\n",
    "\n",
    "\n",
    "assert round(approx_sin(x=1, n=10), 4) == 0.8415\n",
    "print(round(approx_sin(x=3.14, n=10), 4))"
   ]
  },
  {
   "cell_type": "code",
   "execution_count": 20,
   "metadata": {},
   "outputs": [
    {
     "name": "stdout",
     "output_type": "stream",
     "text": [
      "11.53\n"
     ]
    }
   ],
   "source": [
    "# Questions 11\n",
    "import math\n",
    "\n",
    "\n",
    "def approx_sinh(x, n):\n",
    "    # Your code here\n",
    "    result = 0\n",
    "    for i in range(n):\n",
    "        result += (x ** (2 * i + 1)) / math.factorial(2 * i + 1)\n",
    "    return result\n",
    "    # End your code\n",
    "\n",
    "\n",
    "assert round(approx_sinh(x=1, n=10), 2) == 1.18\n",
    "print(round(approx_sinh(x=3.14, n=10), 2))"
   ]
  },
  {
   "cell_type": "code",
   "execution_count": 34,
   "metadata": {},
   "outputs": [
    {
     "name": "stdout",
     "output_type": "stream",
     "text": [
      "11.57\n"
     ]
    }
   ],
   "source": [
    "# Questions 12\n",
    "import math\n",
    "\n",
    "\n",
    "def approx_cosh(x, n):\n",
    "    # Your code here\n",
    "    result = 0\n",
    "    for i in range(n):\n",
    "        result += (x ** (2 * i)) / math.factorial(2 * i)\n",
    "    return result\n",
    "    # End your code\n",
    "\n",
    "\n",
    "assert round(approx_cosh(x=1, n=10), 2) == 1.54\n",
    "print(round(approx_cosh(x=3.14, n=10), 2))"
   ]
  }
 ],
 "metadata": {
  "kernelspec": {
   "display_name": "Python 3",
   "language": "python",
   "name": "python3"
  },
  "language_info": {
   "codemirror_mode": {
    "name": "ipython",
    "version": 3
   },
   "file_extension": ".py",
   "mimetype": "text/x-python",
   "name": "python",
   "nbconvert_exporter": "python",
   "pygments_lexer": "ipython3",
   "version": "3.12.3"
  }
 },
 "nbformat": 4,
 "nbformat_minor": 2
}
