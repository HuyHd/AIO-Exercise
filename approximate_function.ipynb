{
 "cells": [
  {
   "cell_type": "code",
   "execution_count": 1,
   "metadata": {},
   "outputs": [],
   "source": [
    "def approx_sin(x, n):\n",
    "    \"\"\"\n",
    "    Estimate the sine function value.\n",
    "\n",
    "    Parameters:\n",
    "    x (float): The value to approximate the sine function (in radians).\n",
    "    n (int): The number of iterations for approximation.\n",
    "\n",
    "    Returns:\n",
    "    float: The estimated sine function value.\n",
    "    \"\"\"\n",
    "\n",
    "    # Check x must be radian, n must be interger & Calculate sine value\n",
    "    if isinstance(x, float) and isinstance(n, int) and n > 0:\n",
    "        result = 0\n",
    "        for i in range(n):\n",
    "            result += ((-1) ** i) * (x ** (2 * i + 1)) / factorial(2 * i + 1)\n",
    "        return result\n",
    "    else:\n",
    "        print(\"x must be radian and n must be interger.\")\n",
    "        return\n",
    "\n",
    "\n",
    "def approx_cos(x, n):\n",
    "    \"\"\"\n",
    "    Estimate the cosine function value.\n",
    "\n",
    "    Parameters:\n",
    "    x (float): The value to approximate the cosine function (in radians).\n",
    "    n (int): The number of iterations for approximation.\n",
    "\n",
    "    Returns:\n",
    "    float: The estimated cosine function value.\n",
    "    \"\"\"\n",
    "\n",
    "    # Check x must be radian, n must be interger & Calculate cosine value\n",
    "    if isinstance(x, float) and isinstance(n, int) and n > 0:\n",
    "        result = 0\n",
    "        for i in range(n):\n",
    "            result += ((-1) ** i) * (x ** (2 * i)) / factorial(2 * i)\n",
    "        return result\n",
    "    else:\n",
    "        print(\"x must be radian and n must be interger.\")\n",
    "        return\n",
    "\n",
    "\n",
    "def approx_sinh(x, n):\n",
    "    \"\"\"\n",
    "    Estimate the hyperbolic sine function value.\n",
    "\n",
    "    Parameters:\n",
    "    x (float): The value to approximate the hyperbolic sine function (in radians).\n",
    "    n (int): The number of iterations for approximation.\n",
    "\n",
    "    Returns:\n",
    "    float: The estimated hyperbolic sine function value.\n",
    "    \"\"\"\n",
    "    # Check x must be radian, n must be interger & Calculate hyperbolic sine value\n",
    "    if isinstance(x, float) and isinstance(n, int) and n > 0:\n",
    "        result = 0\n",
    "        for i in range(n):\n",
    "            result += (x ** (2 * i + 1)) / factorial(2 * i + 1)\n",
    "        return result\n",
    "    else:\n",
    "        print(\"x must be radian and n must be interger.\")\n",
    "        return\n",
    "\n",
    "\n",
    "def approx_cosh(x, n):\n",
    "    \"\"\"\n",
    "    Estimate the hyperbolic cosine function value.\n",
    "\n",
    "    Parameters:\n",
    "    x (float): The value to approximate the hyperbolic cosine function (in radians).\n",
    "    n (int): The number of iterations for approximation.\n",
    "\n",
    "    Returns:\n",
    "    float: The estimated hyperbolic cosine function value.\n",
    "    \"\"\"\n",
    "    # Check x must be radian, n must be interger & Calculate hyperbolic cosine value\n",
    "    if isinstance(x, float) and isinstance(n, int) and n > 0:\n",
    "        result = 0\n",
    "        for i in range(n):\n",
    "            result += (x ** (2 * i)) / factorial(2 * i)\n",
    "        return result\n",
    "    else:\n",
    "        print(\"x must be radian and n must be interger.\")\n",
    "        return\n",
    "\n",
    "\n",
    "def factorial(n):\n",
    "    \"\"\"\n",
    "    Calculate the factorial of a non-negative integer n.\n",
    "\n",
    "    Parameters:\n",
    "    n (int): A non-negative integer.\n",
    "\n",
    "    Returns:\n",
    "    int: The factorial of n.\n",
    "    \"\"\"\n",
    "    if n == 0:\n",
    "        return 1\n",
    "    else:\n",
    "        return n * factorial(n - 1)"
   ]
  },
  {
   "cell_type": "code",
   "execution_count": 155,
   "metadata": {},
   "outputs": [
    {
     "data": {
      "text/plain": [
       "0.001592652393160744"
      ]
     },
     "execution_count": 155,
     "metadata": {},
     "output_type": "execute_result"
    }
   ],
   "source": [
    "# Examples x = 3.14 and n = 10\n",
    "approx_sin(x=3.14, n=10)"
   ]
  },
  {
   "cell_type": "code",
   "execution_count": 156,
   "metadata": {},
   "outputs": [
    {
     "data": {
      "text/plain": [
       "-0.9999987352210833"
      ]
     },
     "execution_count": 156,
     "metadata": {},
     "output_type": "execute_result"
    }
   ],
   "source": [
    "approx_cos(x=3.14, n=10)"
   ]
  },
  {
   "cell_type": "code",
   "execution_count": 157,
   "metadata": {},
   "outputs": [
    {
     "data": {
      "text/plain": [
       "11.530292029865986"
      ]
     },
     "execution_count": 157,
     "metadata": {},
     "output_type": "execute_result"
    }
   ],
   "source": [
    "approx_sinh(x=3.14, n=10)"
   ]
  },
  {
   "cell_type": "code",
   "execution_count": 2,
   "metadata": {},
   "outputs": [
    {
     "data": {
      "text/plain": [
       "11.573574824666185"
      ]
     },
     "execution_count": 2,
     "metadata": {},
     "output_type": "execute_result"
    }
   ],
   "source": [
    "approx_cosh(x=3.14, n=10)"
   ]
  }
 ],
 "metadata": {
  "kernelspec": {
   "display_name": "Python 3",
   "language": "python",
   "name": "python3"
  },
  "language_info": {
   "codemirror_mode": {
    "name": "ipython",
    "version": 3
   },
   "file_extension": ".py",
   "mimetype": "text/x-python",
   "name": "python",
   "nbconvert_exporter": "python",
   "pygments_lexer": "ipython3",
   "version": "3.12.3"
  }
 },
 "nbformat": 4,
 "nbformat_minor": 2
}
